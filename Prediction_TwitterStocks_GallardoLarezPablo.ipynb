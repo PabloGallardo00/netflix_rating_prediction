{
  "nbformat": 4,
  "nbformat_minor": 0,
  "metadata": {
    "colab": {
      "provenance": []
    },
    "kernelspec": {
      "name": "python3",
      "display_name": "Python 3"
    },
    "language_info": {
      "name": "python"
    }
  },
  "cells": [
    {
      "cell_type": "markdown",
      "source": [
        "# Importamos las librerías necesarias"
      ],
      "metadata": {
        "id": "MNqRI3XvEjls"
      }
    },
    {
      "cell_type": "code",
      "execution_count": 1,
      "metadata": {
        "id": "_2PZPxcEBqQQ"
      },
      "outputs": [],
      "source": [
        "import pandas as pd\n",
        "from sklearn.metrics import confusion_matrix"
      ]
    },
    {
      "cell_type": "code",
      "source": [
        "import warnings\n",
        "warnings.filterwarnings('ignore')"
      ],
      "metadata": {
        "id": "Ua2jThDmBwL9"
      },
      "execution_count": 2,
      "outputs": []
    },
    {
      "cell_type": "markdown",
      "source": [
        "# Lectura de dataset"
      ],
      "metadata": {
        "id": "y2SZbC6NEthm"
      }
    },
    {
      "cell_type": "markdown",
      "source": [
        "El dataset se encuentra en la página de kaggle en el link: https://www.kaggle.com/datasets/maharshipandya/twitter-stocks-dataset"
      ],
      "metadata": {
        "id": "X13u3gX9Evvf"
      }
    },
    {
      "cell_type": "code",
      "source": [
        "df = pd.read_csv('/content/twitter-stocks.csv')"
      ],
      "metadata": {
        "id": "cD5jnlJzB201"
      },
      "execution_count": 3,
      "outputs": []
    },
    {
      "cell_type": "code",
      "source": [
        "df.head()"
      ],
      "metadata": {
        "colab": {
          "base_uri": "https://localhost:8080/",
          "height": 206
        },
        "id": "iPVLmb0gB4u4",
        "outputId": "46494aec-40d3-4982-a552-6fc98e8079b5"
      },
      "execution_count": 4,
      "outputs": [
        {
          "output_type": "execute_result",
          "data": {
            "text/plain": [
              "         Date       Open       High        Low      Close  Adj Close  \\\n",
              "0  2013-11-07  45.099998  50.090000  44.000000  44.900002  44.900002   \n",
              "1  2013-11-08  45.930000  46.939999  40.685001  41.650002  41.650002   \n",
              "2  2013-11-11  40.500000  43.000000  39.400002  42.900002  42.900002   \n",
              "3  2013-11-12  43.660000  43.779999  41.830002  41.900002  41.900002   \n",
              "4  2013-11-13  41.029999  42.869999  40.759998  42.599998  42.599998   \n",
              "\n",
              "        Volume  \n",
              "0  117701670.0  \n",
              "1   27925307.0  \n",
              "2   16113941.0  \n",
              "3    6316755.0  \n",
              "4    8688325.0  "
            ],
            "text/html": [
              "\n",
              "  <div id=\"df-b3b4cee9-9ae3-422c-8f2a-7479f73d2645\">\n",
              "    <div class=\"colab-df-container\">\n",
              "      <div>\n",
              "<style scoped>\n",
              "    .dataframe tbody tr th:only-of-type {\n",
              "        vertical-align: middle;\n",
              "    }\n",
              "\n",
              "    .dataframe tbody tr th {\n",
              "        vertical-align: top;\n",
              "    }\n",
              "\n",
              "    .dataframe thead th {\n",
              "        text-align: right;\n",
              "    }\n",
              "</style>\n",
              "<table border=\"1\" class=\"dataframe\">\n",
              "  <thead>\n",
              "    <tr style=\"text-align: right;\">\n",
              "      <th></th>\n",
              "      <th>Date</th>\n",
              "      <th>Open</th>\n",
              "      <th>High</th>\n",
              "      <th>Low</th>\n",
              "      <th>Close</th>\n",
              "      <th>Adj Close</th>\n",
              "      <th>Volume</th>\n",
              "    </tr>\n",
              "  </thead>\n",
              "  <tbody>\n",
              "    <tr>\n",
              "      <th>0</th>\n",
              "      <td>2013-11-07</td>\n",
              "      <td>45.099998</td>\n",
              "      <td>50.090000</td>\n",
              "      <td>44.000000</td>\n",
              "      <td>44.900002</td>\n",
              "      <td>44.900002</td>\n",
              "      <td>117701670.0</td>\n",
              "    </tr>\n",
              "    <tr>\n",
              "      <th>1</th>\n",
              "      <td>2013-11-08</td>\n",
              "      <td>45.930000</td>\n",
              "      <td>46.939999</td>\n",
              "      <td>40.685001</td>\n",
              "      <td>41.650002</td>\n",
              "      <td>41.650002</td>\n",
              "      <td>27925307.0</td>\n",
              "    </tr>\n",
              "    <tr>\n",
              "      <th>2</th>\n",
              "      <td>2013-11-11</td>\n",
              "      <td>40.500000</td>\n",
              "      <td>43.000000</td>\n",
              "      <td>39.400002</td>\n",
              "      <td>42.900002</td>\n",
              "      <td>42.900002</td>\n",
              "      <td>16113941.0</td>\n",
              "    </tr>\n",
              "    <tr>\n",
              "      <th>3</th>\n",
              "      <td>2013-11-12</td>\n",
              "      <td>43.660000</td>\n",
              "      <td>43.779999</td>\n",
              "      <td>41.830002</td>\n",
              "      <td>41.900002</td>\n",
              "      <td>41.900002</td>\n",
              "      <td>6316755.0</td>\n",
              "    </tr>\n",
              "    <tr>\n",
              "      <th>4</th>\n",
              "      <td>2013-11-13</td>\n",
              "      <td>41.029999</td>\n",
              "      <td>42.869999</td>\n",
              "      <td>40.759998</td>\n",
              "      <td>42.599998</td>\n",
              "      <td>42.599998</td>\n",
              "      <td>8688325.0</td>\n",
              "    </tr>\n",
              "  </tbody>\n",
              "</table>\n",
              "</div>\n",
              "      <button class=\"colab-df-convert\" onclick=\"convertToInteractive('df-b3b4cee9-9ae3-422c-8f2a-7479f73d2645')\"\n",
              "              title=\"Convert this dataframe to an interactive table.\"\n",
              "              style=\"display:none;\">\n",
              "        \n",
              "  <svg xmlns=\"http://www.w3.org/2000/svg\" height=\"24px\"viewBox=\"0 0 24 24\"\n",
              "       width=\"24px\">\n",
              "    <path d=\"M0 0h24v24H0V0z\" fill=\"none\"/>\n",
              "    <path d=\"M18.56 5.44l.94 2.06.94-2.06 2.06-.94-2.06-.94-.94-2.06-.94 2.06-2.06.94zm-11 1L8.5 8.5l.94-2.06 2.06-.94-2.06-.94L8.5 2.5l-.94 2.06-2.06.94zm10 10l.94 2.06.94-2.06 2.06-.94-2.06-.94-.94-2.06-.94 2.06-2.06.94z\"/><path d=\"M17.41 7.96l-1.37-1.37c-.4-.4-.92-.59-1.43-.59-.52 0-1.04.2-1.43.59L10.3 9.45l-7.72 7.72c-.78.78-.78 2.05 0 2.83L4 21.41c.39.39.9.59 1.41.59.51 0 1.02-.2 1.41-.59l7.78-7.78 2.81-2.81c.8-.78.8-2.07 0-2.86zM5.41 20L4 18.59l7.72-7.72 1.47 1.35L5.41 20z\"/>\n",
              "  </svg>\n",
              "      </button>\n",
              "      \n",
              "  <style>\n",
              "    .colab-df-container {\n",
              "      display:flex;\n",
              "      flex-wrap:wrap;\n",
              "      gap: 12px;\n",
              "    }\n",
              "\n",
              "    .colab-df-convert {\n",
              "      background-color: #E8F0FE;\n",
              "      border: none;\n",
              "      border-radius: 50%;\n",
              "      cursor: pointer;\n",
              "      display: none;\n",
              "      fill: #1967D2;\n",
              "      height: 32px;\n",
              "      padding: 0 0 0 0;\n",
              "      width: 32px;\n",
              "    }\n",
              "\n",
              "    .colab-df-convert:hover {\n",
              "      background-color: #E2EBFA;\n",
              "      box-shadow: 0px 1px 2px rgba(60, 64, 67, 0.3), 0px 1px 3px 1px rgba(60, 64, 67, 0.15);\n",
              "      fill: #174EA6;\n",
              "    }\n",
              "\n",
              "    [theme=dark] .colab-df-convert {\n",
              "      background-color: #3B4455;\n",
              "      fill: #D2E3FC;\n",
              "    }\n",
              "\n",
              "    [theme=dark] .colab-df-convert:hover {\n",
              "      background-color: #434B5C;\n",
              "      box-shadow: 0px 1px 3px 1px rgba(0, 0, 0, 0.15);\n",
              "      filter: drop-shadow(0px 1px 2px rgba(0, 0, 0, 0.3));\n",
              "      fill: #FFFFFF;\n",
              "    }\n",
              "  </style>\n",
              "\n",
              "      <script>\n",
              "        const buttonEl =\n",
              "          document.querySelector('#df-b3b4cee9-9ae3-422c-8f2a-7479f73d2645 button.colab-df-convert');\n",
              "        buttonEl.style.display =\n",
              "          google.colab.kernel.accessAllowed ? 'block' : 'none';\n",
              "\n",
              "        async function convertToInteractive(key) {\n",
              "          const element = document.querySelector('#df-b3b4cee9-9ae3-422c-8f2a-7479f73d2645');\n",
              "          const dataTable =\n",
              "            await google.colab.kernel.invokeFunction('convertToInteractive',\n",
              "                                                     [key], {});\n",
              "          if (!dataTable) return;\n",
              "\n",
              "          const docLinkHtml = 'Like what you see? Visit the ' +\n",
              "            '<a target=\"_blank\" href=https://colab.research.google.com/notebooks/data_table.ipynb>data table notebook</a>'\n",
              "            + ' to learn more about interactive tables.';\n",
              "          element.innerHTML = '';\n",
              "          dataTable['output_type'] = 'display_data';\n",
              "          await google.colab.output.renderOutput(dataTable, element);\n",
              "          const docLink = document.createElement('div');\n",
              "          docLink.innerHTML = docLinkHtml;\n",
              "          element.appendChild(docLink);\n",
              "        }\n",
              "      </script>\n",
              "    </div>\n",
              "  </div>\n",
              "  "
            ]
          },
          "metadata": {},
          "execution_count": 4
        }
      ]
    },
    {
      "cell_type": "markdown",
      "source": [
        "# Limpieza de datos"
      ],
      "metadata": {
        "id": "_BYlEebOFBkP"
      }
    },
    {
      "cell_type": "markdown",
      "source": [
        "Verificamos que el dataset no tenga valores nulos."
      ],
      "metadata": {
        "id": "gsBeXOB2FEk8"
      }
    },
    {
      "cell_type": "code",
      "source": [
        "df.isnull().any()"
      ],
      "metadata": {
        "colab": {
          "base_uri": "https://localhost:8080/"
        },
        "id": "MPtsNJJKB63R",
        "outputId": "f7956411-8775-41d5-b58d-9eb04225aefb"
      },
      "execution_count": 5,
      "outputs": [
        {
          "output_type": "execute_result",
          "data": {
            "text/plain": [
              "Date         False\n",
              "Open         False\n",
              "High         False\n",
              "Low          False\n",
              "Close        False\n",
              "Adj Close    False\n",
              "Volume       False\n",
              "dtype: bool"
            ]
          },
          "metadata": {},
          "execution_count": 5
        }
      ]
    },
    {
      "cell_type": "markdown",
      "source": [
        "# Asignación de indice para fecha"
      ],
      "metadata": {
        "id": "10fypdm0FMCc"
      }
    },
    {
      "cell_type": "code",
      "source": [
        "df.set_index(\"Date\",inplace=True)\n",
        "df.head()"
      ],
      "metadata": {
        "colab": {
          "base_uri": "https://localhost:8080/",
          "height": 238
        },
        "id": "kWrBPkYtB8cy",
        "outputId": "0f52476f-360e-4547-abc2-c9a449b5e326"
      },
      "execution_count": 6,
      "outputs": [
        {
          "output_type": "execute_result",
          "data": {
            "text/plain": [
              "                 Open       High        Low      Close  Adj Close       Volume\n",
              "Date                                                                          \n",
              "2013-11-07  45.099998  50.090000  44.000000  44.900002  44.900002  117701670.0\n",
              "2013-11-08  45.930000  46.939999  40.685001  41.650002  41.650002   27925307.0\n",
              "2013-11-11  40.500000  43.000000  39.400002  42.900002  42.900002   16113941.0\n",
              "2013-11-12  43.660000  43.779999  41.830002  41.900002  41.900002    6316755.0\n",
              "2013-11-13  41.029999  42.869999  40.759998  42.599998  42.599998    8688325.0"
            ],
            "text/html": [
              "\n",
              "  <div id=\"df-c55af7d8-d722-4a25-8641-17ba2a8386c8\">\n",
              "    <div class=\"colab-df-container\">\n",
              "      <div>\n",
              "<style scoped>\n",
              "    .dataframe tbody tr th:only-of-type {\n",
              "        vertical-align: middle;\n",
              "    }\n",
              "\n",
              "    .dataframe tbody tr th {\n",
              "        vertical-align: top;\n",
              "    }\n",
              "\n",
              "    .dataframe thead th {\n",
              "        text-align: right;\n",
              "    }\n",
              "</style>\n",
              "<table border=\"1\" class=\"dataframe\">\n",
              "  <thead>\n",
              "    <tr style=\"text-align: right;\">\n",
              "      <th></th>\n",
              "      <th>Open</th>\n",
              "      <th>High</th>\n",
              "      <th>Low</th>\n",
              "      <th>Close</th>\n",
              "      <th>Adj Close</th>\n",
              "      <th>Volume</th>\n",
              "    </tr>\n",
              "    <tr>\n",
              "      <th>Date</th>\n",
              "      <th></th>\n",
              "      <th></th>\n",
              "      <th></th>\n",
              "      <th></th>\n",
              "      <th></th>\n",
              "      <th></th>\n",
              "    </tr>\n",
              "  </thead>\n",
              "  <tbody>\n",
              "    <tr>\n",
              "      <th>2013-11-07</th>\n",
              "      <td>45.099998</td>\n",
              "      <td>50.090000</td>\n",
              "      <td>44.000000</td>\n",
              "      <td>44.900002</td>\n",
              "      <td>44.900002</td>\n",
              "      <td>117701670.0</td>\n",
              "    </tr>\n",
              "    <tr>\n",
              "      <th>2013-11-08</th>\n",
              "      <td>45.930000</td>\n",
              "      <td>46.939999</td>\n",
              "      <td>40.685001</td>\n",
              "      <td>41.650002</td>\n",
              "      <td>41.650002</td>\n",
              "      <td>27925307.0</td>\n",
              "    </tr>\n",
              "    <tr>\n",
              "      <th>2013-11-11</th>\n",
              "      <td>40.500000</td>\n",
              "      <td>43.000000</td>\n",
              "      <td>39.400002</td>\n",
              "      <td>42.900002</td>\n",
              "      <td>42.900002</td>\n",
              "      <td>16113941.0</td>\n",
              "    </tr>\n",
              "    <tr>\n",
              "      <th>2013-11-12</th>\n",
              "      <td>43.660000</td>\n",
              "      <td>43.779999</td>\n",
              "      <td>41.830002</td>\n",
              "      <td>41.900002</td>\n",
              "      <td>41.900002</td>\n",
              "      <td>6316755.0</td>\n",
              "    </tr>\n",
              "    <tr>\n",
              "      <th>2013-11-13</th>\n",
              "      <td>41.029999</td>\n",
              "      <td>42.869999</td>\n",
              "      <td>40.759998</td>\n",
              "      <td>42.599998</td>\n",
              "      <td>42.599998</td>\n",
              "      <td>8688325.0</td>\n",
              "    </tr>\n",
              "  </tbody>\n",
              "</table>\n",
              "</div>\n",
              "      <button class=\"colab-df-convert\" onclick=\"convertToInteractive('df-c55af7d8-d722-4a25-8641-17ba2a8386c8')\"\n",
              "              title=\"Convert this dataframe to an interactive table.\"\n",
              "              style=\"display:none;\">\n",
              "        \n",
              "  <svg xmlns=\"http://www.w3.org/2000/svg\" height=\"24px\"viewBox=\"0 0 24 24\"\n",
              "       width=\"24px\">\n",
              "    <path d=\"M0 0h24v24H0V0z\" fill=\"none\"/>\n",
              "    <path d=\"M18.56 5.44l.94 2.06.94-2.06 2.06-.94-2.06-.94-.94-2.06-.94 2.06-2.06.94zm-11 1L8.5 8.5l.94-2.06 2.06-.94-2.06-.94L8.5 2.5l-.94 2.06-2.06.94zm10 10l.94 2.06.94-2.06 2.06-.94-2.06-.94-.94-2.06-.94 2.06-2.06.94z\"/><path d=\"M17.41 7.96l-1.37-1.37c-.4-.4-.92-.59-1.43-.59-.52 0-1.04.2-1.43.59L10.3 9.45l-7.72 7.72c-.78.78-.78 2.05 0 2.83L4 21.41c.39.39.9.59 1.41.59.51 0 1.02-.2 1.41-.59l7.78-7.78 2.81-2.81c.8-.78.8-2.07 0-2.86zM5.41 20L4 18.59l7.72-7.72 1.47 1.35L5.41 20z\"/>\n",
              "  </svg>\n",
              "      </button>\n",
              "      \n",
              "  <style>\n",
              "    .colab-df-container {\n",
              "      display:flex;\n",
              "      flex-wrap:wrap;\n",
              "      gap: 12px;\n",
              "    }\n",
              "\n",
              "    .colab-df-convert {\n",
              "      background-color: #E8F0FE;\n",
              "      border: none;\n",
              "      border-radius: 50%;\n",
              "      cursor: pointer;\n",
              "      display: none;\n",
              "      fill: #1967D2;\n",
              "      height: 32px;\n",
              "      padding: 0 0 0 0;\n",
              "      width: 32px;\n",
              "    }\n",
              "\n",
              "    .colab-df-convert:hover {\n",
              "      background-color: #E2EBFA;\n",
              "      box-shadow: 0px 1px 2px rgba(60, 64, 67, 0.3), 0px 1px 3px 1px rgba(60, 64, 67, 0.15);\n",
              "      fill: #174EA6;\n",
              "    }\n",
              "\n",
              "    [theme=dark] .colab-df-convert {\n",
              "      background-color: #3B4455;\n",
              "      fill: #D2E3FC;\n",
              "    }\n",
              "\n",
              "    [theme=dark] .colab-df-convert:hover {\n",
              "      background-color: #434B5C;\n",
              "      box-shadow: 0px 1px 3px 1px rgba(0, 0, 0, 0.15);\n",
              "      filter: drop-shadow(0px 1px 2px rgba(0, 0, 0, 0.3));\n",
              "      fill: #FFFFFF;\n",
              "    }\n",
              "  </style>\n",
              "\n",
              "      <script>\n",
              "        const buttonEl =\n",
              "          document.querySelector('#df-c55af7d8-d722-4a25-8641-17ba2a8386c8 button.colab-df-convert');\n",
              "        buttonEl.style.display =\n",
              "          google.colab.kernel.accessAllowed ? 'block' : 'none';\n",
              "\n",
              "        async function convertToInteractive(key) {\n",
              "          const element = document.querySelector('#df-c55af7d8-d722-4a25-8641-17ba2a8386c8');\n",
              "          const dataTable =\n",
              "            await google.colab.kernel.invokeFunction('convertToInteractive',\n",
              "                                                     [key], {});\n",
              "          if (!dataTable) return;\n",
              "\n",
              "          const docLinkHtml = 'Like what you see? Visit the ' +\n",
              "            '<a target=\"_blank\" href=https://colab.research.google.com/notebooks/data_table.ipynb>data table notebook</a>'\n",
              "            + ' to learn more about interactive tables.';\n",
              "          element.innerHTML = '';\n",
              "          dataTable['output_type'] = 'display_data';\n",
              "          await google.colab.output.renderOutput(dataTable, element);\n",
              "          const docLink = document.createElement('div');\n",
              "          docLink.innerHTML = docLinkHtml;\n",
              "          element.appendChild(docLink);\n",
              "        }\n",
              "      </script>\n",
              "    </div>\n",
              "  </div>\n",
              "  "
            ]
          },
          "metadata": {},
          "execution_count": 6
        }
      ]
    },
    {
      "cell_type": "markdown",
      "source": [
        "# Graficación"
      ],
      "metadata": {
        "id": "f7zHG3m2FP5T"
      }
    },
    {
      "cell_type": "markdown",
      "source": [
        "Se asigna nueva columna al dataframe sobre la media de volumen en las acciones para observar la comparación con el volumen a lo largo del tiempo."
      ],
      "metadata": {
        "id": "XwrSLSHUFing"
      }
    },
    {
      "cell_type": "code",
      "source": [
        "df['Volume Mean'] = df['Volume'].rolling(window=180).mean()\n",
        "df[['Volume','Volume Mean']].plot(figsize=(12,5)).autoscale(axis='x',tight=True)"
      ],
      "metadata": {
        "colab": {
          "base_uri": "https://localhost:8080/",
          "height": 345
        },
        "id": "S-7rELgjCDG-",
        "outputId": "ea985212-e2d7-4cf4-a551-ae197e24bfa0"
      },
      "execution_count": 7,
      "outputs": [
        {
          "output_type": "display_data",
          "data": {
            "text/plain": [
              "<Figure size 864x360 with 1 Axes>"
            ],
            "image/png": "[encoded data removed]"
          },
          "metadata": {
            "needs_background": "light"
          }
        }
      ]
    },
    {
      "cell_type": "markdown",
      "source": [
        "Se observa que el año donde se obtuvieron mayores acciones es en el año 2022, esto debido a los rumores y reciente confirmación de la compra de Elon Musk a esta red social. Entonces tomaremos en cuenta el volumen como variable dependiente."
      ],
      "metadata": {
        "id": "_LgySGhCF5ei"
      }
    },
    {
      "cell_type": "code",
      "source": [
        "df['Volume'].nlargest(10)"
      ],
      "metadata": {
        "colab": {
          "base_uri": "https://localhost:8080/"
        },
        "id": "B6v0KPpUCRao",
        "outputId": "af0db683-be4a-42db-bca9-9025cfded569"
      },
      "execution_count": 8,
      "outputs": [
        {
          "output_type": "execute_result",
          "data": {
            "text/plain": [
              "Date\n",
              "2022-04-04    269213085.0\n",
              "2022-04-14    258868339.0\n",
              "2022-04-05    217520098.0\n",
              "2016-09-23    192269255.0\n",
              "2022-04-25    176803635.0\n",
              "2018-02-08    162434360.0\n",
              "2022-04-06    159034747.0\n",
              "2022-04-18    153119550.0\n",
              "2018-06-06    147805710.0\n",
              "2022-10-27    136345128.0\n",
              "Name: Volume, dtype: float64"
            ]
          },
          "metadata": {},
          "execution_count": 8
        }
      ]
    },
    {
      "cell_type": "markdown",
      "source": [
        "# Asignación de variables independientes y valor dependiente"
      ],
      "metadata": {
        "id": "tr2-i2hJFwdh"
      }
    },
    {
      "cell_type": "markdown",
      "source": [
        "Asignamos como variables independientes todos exceptuando la fecha porque es irrelevante en este caso y como variable dependiente el volumen ya que es el que se utilizará como target."
      ],
      "metadata": {
        "id": "wi-JZ5ZMGY_f"
      }
    },
    {
      "cell_type": "code",
      "source": [
        "df.head()"
      ],
      "metadata": {
        "colab": {
          "base_uri": "https://localhost:8080/",
          "height": 238
        },
        "id": "c1IhpJpGGlSo",
        "outputId": "157ca633-4dc6-49c6-d70c-06d6156757a6"
      },
      "execution_count": 9,
      "outputs": [
        {
          "output_type": "execute_result",
          "data": {
            "text/plain": [
              "                 Open       High        Low      Close  Adj Close  \\\n",
              "Date                                                                \n",
              "2013-11-07  45.099998  50.090000  44.000000  44.900002  44.900002   \n",
              "2013-11-08  45.930000  46.939999  40.685001  41.650002  41.650002   \n",
              "2013-11-11  40.500000  43.000000  39.400002  42.900002  42.900002   \n",
              "2013-11-12  43.660000  43.779999  41.830002  41.900002  41.900002   \n",
              "2013-11-13  41.029999  42.869999  40.759998  42.599998  42.599998   \n",
              "\n",
              "                 Volume  Volume Mean  \n",
              "Date                                  \n",
              "2013-11-07  117701670.0          NaN  \n",
              "2013-11-08   27925307.0          NaN  \n",
              "2013-11-11   16113941.0          NaN  \n",
              "2013-11-12    6316755.0          NaN  \n",
              "2013-11-13    8688325.0          NaN  "
            ],
            "text/html": [
              "\n",
              "  <div id=\"df-1e9413fc-f88e-4524-bd0e-bf03dcdb3d27\">\n",
              "    <div class=\"colab-df-container\">\n",
              "      <div>\n",
              "<style scoped>\n",
              "    .dataframe tbody tr th:only-of-type {\n",
              "        vertical-align: middle;\n",
              "    }\n",
              "\n",
              "    .dataframe tbody tr th {\n",
              "        vertical-align: top;\n",
              "    }\n",
              "\n",
              "    .dataframe thead th {\n",
              "        text-align: right;\n",
              "    }\n",
              "</style>\n",
              "<table border=\"1\" class=\"dataframe\">\n",
              "  <thead>\n",
              "    <tr style=\"text-align: right;\">\n",
              "      <th></th>\n",
              "      <th>Open</th>\n",
              "      <th>High</th>\n",
              "      <th>Low</th>\n",
              "      <th>Close</th>\n",
              "      <th>Adj Close</th>\n",
              "      <th>Volume</th>\n",
              "      <th>Volume Mean</th>\n",
              "    </tr>\n",
              "    <tr>\n",
              "      <th>Date</th>\n",
              "      <th></th>\n",
              "      <th></th>\n",
              "      <th></th>\n",
              "      <th></th>\n",
              "      <th></th>\n",
              "      <th></th>\n",
              "      <th></th>\n",
              "    </tr>\n",
              "  </thead>\n",
              "  <tbody>\n",
              "    <tr>\n",
              "      <th>2013-11-07</th>\n",
              "      <td>45.099998</td>\n",
              "      <td>50.090000</td>\n",
              "      <td>44.000000</td>\n",
              "      <td>44.900002</td>\n",
              "      <td>44.900002</td>\n",
              "      <td>117701670.0</td>\n",
              "      <td>NaN</td>\n",
              "    </tr>\n",
              "    <tr>\n",
              "      <th>2013-11-08</th>\n",
              "      <td>45.930000</td>\n",
              "      <td>46.939999</td>\n",
              "      <td>40.685001</td>\n",
              "      <td>41.650002</td>\n",
              "      <td>41.650002</td>\n",
              "      <td>27925307.0</td>\n",
              "      <td>NaN</td>\n",
              "    </tr>\n",
              "    <tr>\n",
              "      <th>2013-11-11</th>\n",
              "      <td>40.500000</td>\n",
              "      <td>43.000000</td>\n",
              "      <td>39.400002</td>\n",
              "      <td>42.900002</td>\n",
              "      <td>42.900002</td>\n",
              "      <td>16113941.0</td>\n",
              "      <td>NaN</td>\n",
              "    </tr>\n",
              "    <tr>\n",
              "      <th>2013-11-12</th>\n",
              "      <td>43.660000</td>\n",
              "      <td>43.779999</td>\n",
              "      <td>41.830002</td>\n",
              "      <td>41.900002</td>\n",
              "      <td>41.900002</td>\n",
              "      <td>6316755.0</td>\n",
              "      <td>NaN</td>\n",
              "    </tr>\n",
              "    <tr>\n",
              "      <th>2013-11-13</th>\n",
              "      <td>41.029999</td>\n",
              "      <td>42.869999</td>\n",
              "      <td>40.759998</td>\n",
              "      <td>42.599998</td>\n",
              "      <td>42.599998</td>\n",
              "      <td>8688325.0</td>\n",
              "      <td>NaN</td>\n",
              "    </tr>\n",
              "  </tbody>\n",
              "</table>\n",
              "</div>\n",
              "      <button class=\"colab-df-convert\" onclick=\"convertToInteractive('df-1e9413fc-f88e-4524-bd0e-bf03dcdb3d27')\"\n",
              "              title=\"Convert this dataframe to an interactive table.\"\n",
              "              style=\"display:none;\">\n",
              "        \n",
              "  <svg xmlns=\"http://www.w3.org/2000/svg\" height=\"24px\"viewBox=\"0 0 24 24\"\n",
              "       width=\"24px\">\n",
              "    <path d=\"M0 0h24v24H0V0z\" fill=\"none\"/>\n",
              "    <path d=\"M18.56 5.44l.94 2.06.94-2.06 2.06-.94-2.06-.94-.94-2.06-.94 2.06-2.06.94zm-11 1L8.5 8.5l.94-2.06 2.06-.94-2.06-.94L8.5 2.5l-.94 2.06-2.06.94zm10 10l.94 2.06.94-2.06 2.06-.94-2.06-.94-.94-2.06-.94 2.06-2.06.94z\"/><path d=\"M17.41 7.96l-1.37-1.37c-.4-.4-.92-.59-1.43-.59-.52 0-1.04.2-1.43.59L10.3 9.45l-7.72 7.72c-.78.78-.78 2.05 0 2.83L4 21.41c.39.39.9.59 1.41.59.51 0 1.02-.2 1.41-.59l7.78-7.78 2.81-2.81c.8-.78.8-2.07 0-2.86zM5.41 20L4 18.59l7.72-7.72 1.47 1.35L5.41 20z\"/>\n",
              "  </svg>\n",
              "      </button>\n",
              "      \n",
              "  <style>\n",
              "    .colab-df-container {\n",
              "      display:flex;\n",
              "      flex-wrap:wrap;\n",
              "      gap: 12px;\n",
              "    }\n",
              "\n",
              "    .colab-df-convert {\n",
              "      background-color: #E8F0FE;\n",
              "      border: none;\n",
              "      border-radius: 50%;\n",
              "      cursor: pointer;\n",
              "      display: none;\n",
              "      fill: #1967D2;\n",
              "      height: 32px;\n",
              "      padding: 0 0 0 0;\n",
              "      width: 32px;\n",
              "    }\n",
              "\n",
              "    .colab-df-convert:hover {\n",
              "      background-color: #E2EBFA;\n",
              "      box-shadow: 0px 1px 2px rgba(60, 64, 67, 0.3), 0px 1px 3px 1px rgba(60, 64, 67, 0.15);\n",
              "      fill: #174EA6;\n",
              "    }\n",
              "\n",
              "    [theme=dark] .colab-df-convert {\n",
              "      background-color: #3B4455;\n",
              "      fill: #D2E3FC;\n",
              "    }\n",
              "\n",
              "    [theme=dark] .colab-df-convert:hover {\n",
              "      background-color: #434B5C;\n",
              "      box-shadow: 0px 1px 3px 1px rgba(0, 0, 0, 0.15);\n",
              "      filter: drop-shadow(0px 1px 2px rgba(0, 0, 0, 0.3));\n",
              "      fill: #FFFFFF;\n",
              "    }\n",
              "  </style>\n",
              "\n",
              "      <script>\n",
              "        const buttonEl =\n",
              "          document.querySelector('#df-1e9413fc-f88e-4524-bd0e-bf03dcdb3d27 button.colab-df-convert');\n",
              "        buttonEl.style.display =\n",
              "          google.colab.kernel.accessAllowed ? 'block' : 'none';\n",
              "\n",
              "        async function convertToInteractive(key) {\n",
              "          const element = document.querySelector('#df-1e9413fc-f88e-4524-bd0e-bf03dcdb3d27');\n",
              "          const dataTable =\n",
              "            await google.colab.kernel.invokeFunction('convertToInteractive',\n",
              "                                                     [key], {});\n",
              "          if (!dataTable) return;\n",
              "\n",
              "          const docLinkHtml = 'Like what you see? Visit the ' +\n",
              "            '<a target=\"_blank\" href=https://colab.research.google.com/notebooks/data_table.ipynb>data table notebook</a>'\n",
              "            + ' to learn more about interactive tables.';\n",
              "          element.innerHTML = '';\n",
              "          dataTable['output_type'] = 'display_data';\n",
              "          await google.colab.output.renderOutput(dataTable, element);\n",
              "          const docLink = document.createElement('div');\n",
              "          docLink.innerHTML = docLinkHtml;\n",
              "          element.appendChild(docLink);\n",
              "        }\n",
              "      </script>\n",
              "    </div>\n",
              "  </div>\n",
              "  "
            ]
          },
          "metadata": {},
          "execution_count": 9
        }
      ]
    },
    {
      "cell_type": "code",
      "source": [
        "X = df.iloc[:,[0,1,2,3,4]] \n",
        "Y = df.iloc[:,5]"
      ],
      "metadata": {
        "id": "H850nUmHCmGb"
      },
      "execution_count": 10,
      "outputs": []
    },
    {
      "cell_type": "markdown",
      "source": [
        "# Variables de prueba y entrenamiento"
      ],
      "metadata": {
        "id": "zvyQmJxCGze5"
      }
    },
    {
      "cell_type": "markdown",
      "source": [
        "Generamos las variables de prueba y entrenamiento con un tamaño de prueba de 25% y random_state en 42 para no generar un conjunto de prueba distinto cada vez que se ejecute el código."
      ],
      "metadata": {
        "id": "6LdRPCG-G23e"
      }
    },
    {
      "cell_type": "code",
      "source": [
        "from sklearn.model_selection import train_test_split\n",
        "X_train, X_test, y_train, y_test = train_test_split(X, Y, test_size=0.25, random_state=42)"
      ],
      "metadata": {
        "id": "VRahxuYtC1Pp"
      },
      "execution_count": 11,
      "outputs": []
    },
    {
      "cell_type": "markdown",
      "source": [
        "# Generamos el modelo"
      ],
      "metadata": {
        "id": "1-fmOEDCLSbX"
      }
    },
    {
      "cell_type": "markdown",
      "source": [
        "Utilizaremos el algoritmo de arbol de decisión con el minimo de muestras para dividir en 3 en un nodo interno"
      ],
      "metadata": {
        "id": "0DFTYW-2LWwW"
      }
    },
    {
      "cell_type": "code",
      "source": [
        "from sklearn.tree import DecisionTreeClassifier\n",
        "classifier = DecisionTreeClassifier(min_samples_split=3)\n",
        "classifier.fit(X_train, y_train)"
      ],
      "metadata": {
        "colab": {
          "base_uri": "https://localhost:8080/"
        },
        "id": "q5GtXRboC3ug",
        "outputId": "89175ccc-0209-493c-d22f-9170abc9e922"
      },
      "execution_count": 15,
      "outputs": [
        {
          "output_type": "execute_result",
          "data": {
            "text/plain": [
              "DecisionTreeClassifier(min_samples_split=3)"
            ]
          },
          "metadata": {},
          "execution_count": 15
        }
      ]
    },
    {
      "cell_type": "markdown",
      "source": [
        "Obtenemos el puntaje"
      ],
      "metadata": {
        "id": "m-5JzbqeLhyK"
      }
    },
    {
      "cell_type": "code",
      "source": [
        "classifier.score(X_train, y_train)"
      ],
      "metadata": {
        "colab": {
          "base_uri": "https://localhost:8080/"
        },
        "id": "bONYhmrGC6AW",
        "outputId": "884fba76-a561-40bf-ed0c-058ebf60ee78"
      },
      "execution_count": 13,
      "outputs": [
        {
          "output_type": "execute_result",
          "data": {
            "text/plain": [
              "0.9368358913813459"
            ]
          },
          "metadata": {},
          "execution_count": 13
        }
      ]
    },
    {
      "cell_type": "markdown",
      "source": [
        "# Predicción"
      ],
      "metadata": {
        "id": "jAui-HepHlN7"
      }
    },
    {
      "cell_type": "code",
      "source": [
        "y_pred = classifier.predict(X_test)\n",
        "y_pred"
      ],
      "metadata": {
        "colab": {
          "base_uri": "https://localhost:8080/"
        },
        "id": "7g059a1eDGvc",
        "outputId": "f18c31cd-f143-42df-cfbb-d9976c9be966"
      },
      "execution_count": 17,
      "outputs": [
        {
          "output_type": "execute_result",
          "data": {
            "text/plain": [
              "array([2.27704640e+07, 1.78249850e+07, 1.04207230e+07, 1.62434360e+08,\n",
              "       1.19938580e+07, 3.76822450e+07, 9.77465800e+06, 1.90514760e+07,\n",
              "       1.50766220e+07, 1.93035350e+07, 3.01127910e+07, 1.56705640e+07,\n",
              "       1.48354420e+07, 8.41358700e+06, 9.22364200e+06, 1.55030600e+07,\n",
              "       1.90501420e+07, 1.50599390e+07, 1.13861470e+07, 1.58222350e+07,\n",
              "       3.70010230e+07, 1.06271091e+08, 5.23881050e+07, 1.41049960e+07,\n",
              "       8.25166100e+06, 2.32982780e+07, 1.96830490e+07, 2.24805720e+07,\n",
              "       2.46575900e+07, 3.09118920e+07, 3.51691700e+07, 1.57798600e+07,\n",
              "       1.28192760e+07, 2.19204520e+07, 1.18834140e+07, 8.49437900e+06,\n",
              "       1.42256190e+07, 1.12023720e+07, 2.24847990e+07, 1.76416700e+07,\n",
              "       7.58216100e+06, 1.65244140e+07, 1.85448350e+07, 1.30526070e+07,\n",
              "       2.68000350e+07, 2.23790050e+07, 1.84853090e+07, 2.70564960e+07,\n",
              "       1.34709976e+08, 8.74476800e+06, 7.86127800e+06, 7.65044880e+07,\n",
              "       1.31726140e+07, 1.42036260e+07, 1.26432130e+07, 1.44069490e+07,\n",
              "       3.77358960e+07, 8.07717000e+06, 3.47127460e+07, 2.33531970e+07,\n",
              "       2.12009910e+07, 1.44403780e+07, 1.34426580e+07, 2.91245910e+07,\n",
              "       1.58076360e+07, 1.58284910e+07, 2.43001640e+07, 2.47843260e+07,\n",
              "       1.39890250e+07, 2.05428240e+07, 1.21813240e+07, 2.27592470e+07,\n",
              "       3.82508540e+07, 1.94308820e+07, 5.27396200e+07, 1.95869300e+07,\n",
              "       4.16945150e+07, 1.61905360e+07, 3.70460590e+07, 1.07274280e+07,\n",
              "       1.50599390e+07, 2.26756630e+07, 2.19655920e+07, 1.78599170e+07,\n",
              "       0.00000000e+00, 2.80936940e+07, 1.32083340e+07, 1.21317910e+07,\n",
              "       8.24006800e+06, 1.28192760e+07, 6.61410900e+06, 1.52387160e+07,\n",
              "       1.90280840e+07, 1.92269255e+08, 7.32509200e+06, 7.86668200e+06,\n",
              "       1.18049360e+07, 1.68377570e+07, 1.00521080e+07, 6.08679910e+07,\n",
              "       7.16866470e+07, 6.72593390e+07, 1.11910570e+07, 8.97755900e+06,\n",
              "       1.58076360e+07, 7.58216100e+06, 2.21151990e+07, 2.58310910e+07,\n",
              "       4.90996980e+07, 9.43181100e+06, 2.11705510e+07, 1.90972200e+07,\n",
              "       1.16397820e+07, 3.82444710e+07, 3.65721890e+07, 3.81925770e+07,\n",
              "       1.94308820e+07, 6.98042400e+06, 1.41961940e+07, 2.47730300e+07,\n",
              "       3.47479560e+07, 7.76275400e+06, 2.85874960e+07, 1.21344450e+07,\n",
              "       1.47470110e+07, 3.48399980e+07, 1.35142880e+07, 7.46834900e+06,\n",
              "       1.23730430e+07, 8.28358900e+06, 1.04002690e+07, 2.44072860e+07,\n",
              "       1.71366550e+07, 2.28316090e+07, 1.55277170e+07, 9.77465800e+06,\n",
              "       1.37889810e+07, 2.49188910e+07, 9.22364200e+06, 1.75915160e+07,\n",
              "       1.61635590e+07, 2.25913300e+07, 2.63316410e+07, 1.60482360e+07,\n",
              "       1.77886260e+07, 1.99067160e+07, 2.59373380e+07, 1.30745290e+07,\n",
              "       2.99971270e+07, 1.24129370e+07, 0.00000000e+00, 6.54138500e+06,\n",
              "       4.08998550e+07, 1.22981900e+07, 2.72340900e+07, 1.44825520e+07,\n",
              "       7.00142300e+06, 2.01324160e+07, 1.81413650e+07, 1.69688350e+07,\n",
              "       4.66318790e+07, 1.54929220e+07, 2.82507210e+07, 1.05966850e+07,\n",
              "       1.37573670e+07, 1.90685660e+07, 2.80492470e+07, 6.82961100e+06,\n",
              "       1.58502110e+07, 7.14938800e+06, 9.26302800e+06, 1.61720280e+07,\n",
              "       4.16945150e+07, 8.30688700e+06, 1.26432130e+07, 1.28995290e+07,\n",
              "       1.10357290e+07, 2.78585160e+07, 1.45836190e+07, 2.29113330e+07,\n",
              "       3.53212460e+07, 1.71147760e+07, 1.05435620e+07, 5.27396200e+07,\n",
              "       2.52878820e+07, 8.07717000e+06, 2.20969270e+07, 1.95869300e+07,\n",
              "       2.57581290e+07, 1.32209700e+07, 1.24661190e+07, 1.18049360e+07,\n",
              "       1.20271460e+07, 2.65367760e+07, 1.53571280e+07, 7.77199600e+06,\n",
              "       8.07717000e+06, 9.81324500e+06, 4.10707400e+06, 1.93062440e+07,\n",
              "       1.31227390e+07, 2.22382960e+07, 4.67272750e+07, 4.73234900e+07,\n",
              "       1.34889180e+07, 1.93454800e+07, 1.16592600e+07, 1.77505960e+07,\n",
              "       4.09048980e+07, 1.15053050e+07, 1.23340380e+07, 1.18163470e+07,\n",
              "       2.61196340e+07, 1.58076360e+07, 9.69317100e+06, 9.02299500e+06,\n",
              "       1.23174150e+07, 2.03457950e+07, 1.85727760e+07, 2.01324160e+07,\n",
              "       1.49803080e+07, 1.05226220e+07, 1.01861270e+07, 7.89596800e+06,\n",
              "       1.52723470e+07, 9.22364200e+06, 7.89596800e+06, 4.15734470e+07,\n",
              "       2.54365640e+07, 1.92758650e+07, 1.52938140e+07, 1.61987590e+07,\n",
              "       1.68209030e+07, 1.25832950e+07, 1.79054950e+07, 9.57041200e+06,\n",
              "       1.49803080e+07, 1.36120740e+07, 2.04502630e+07, 7.81453800e+06,\n",
              "       1.59203630e+07, 2.19856730e+07, 1.98457350e+07, 2.60822510e+07,\n",
              "       1.27729280e+07, 1.13861470e+07, 1.97979880e+07, 1.96214340e+07,\n",
              "       1.68628230e+07, 1.51475250e+07, 1.73666140e+07, 1.35932910e+07,\n",
              "       2.55187300e+07, 9.38084700e+06, 1.68209030e+07, 9.81324500e+06,\n",
              "       1.59203630e+07, 1.75915160e+07, 2.27666580e+07, 3.82444710e+07,\n",
              "       1.25414050e+07, 1.26432130e+07, 1.78312600e+07, 1.32539330e+07,\n",
              "       1.04262474e+08, 2.41237970e+07, 4.36781670e+07, 2.43928920e+07,\n",
              "       1.34968100e+07, 1.65867710e+07, 2.17507720e+07, 2.24816830e+07,\n",
              "       1.42307520e+07, 1.55878720e+07, 1.48354420e+07, 1.09741260e+07,\n",
              "       1.08292100e+07, 1.12288790e+07, 1.04454690e+07, 1.03773180e+07,\n",
              "       1.57450420e+07, 1.93272570e+07, 9.52860200e+06, 1.98391230e+07,\n",
              "       1.63867640e+07, 1.76803635e+08, 5.79449700e+06, 3.01185560e+07,\n",
              "       1.68209030e+07, 1.77505960e+07, 1.25858310e+07, 1.31200600e+07,\n",
              "       2.12428210e+07, 1.25871340e+07, 2.49392620e+07, 2.12418800e+07,\n",
              "       5.18140760e+07, 1.58043410e+07, 1.55277170e+07, 5.27396200e+07,\n",
              "       2.57463060e+07, 2.23790050e+07, 2.60717050e+07, 1.18358260e+07,\n",
              "       1.84853090e+07, 1.42967710e+07, 1.37066450e+07, 1.35845130e+07,\n",
              "       3.36559500e+07, 9.77465800e+06, 1.60738730e+07, 1.60649830e+07,\n",
              "       1.99548880e+07, 6.69357500e+06, 2.31147270e+07, 1.90739020e+07,\n",
              "       8.64250610e+07, 1.51760070e+07, 8.92633800e+06, 2.50178570e+07,\n",
              "       2.32036010e+07, 1.51464460e+07, 1.12277625e+08, 3.73238440e+07,\n",
              "       1.92753960e+07, 1.91904360e+07, 7.96489700e+07, 2.79009740e+07,\n",
              "       8.59156200e+06, 2.18672910e+07, 2.94110080e+07, 1.44069490e+07,\n",
              "       1.63867640e+07, 9.93326500e+06, 1.02973023e+08, 1.67552510e+07,\n",
              "       9.88305800e+06, 2.51886750e+07, 9.75294700e+06, 1.69688350e+07,\n",
              "       7.16866470e+07, 1.78672770e+07, 1.15997500e+07, 1.60649830e+07,\n",
              "       1.78599170e+07, 1.24661190e+07, 2.10351680e+07, 5.91068800e+07,\n",
              "       1.46846350e+07, 1.18834140e+07, 3.73238440e+07, 9.22364200e+06,\n",
              "       1.94308820e+07, 5.81460880e+07, 1.23730430e+07, 1.42828700e+07,\n",
              "       1.18358260e+07, 1.21344450e+07, 1.01347890e+07, 1.76803635e+08,\n",
              "       1.42619860e+07, 1.54755240e+07, 1.04390390e+07, 1.12300690e+07,\n",
              "       7.74544800e+06, 9.43181100e+06, 2.62287380e+07, 1.95241060e+07,\n",
              "       1.84430440e+07, 3.23591060e+07, 8.30688700e+06, 1.70626530e+07,\n",
              "       2.13516550e+07, 8.22561600e+06, 1.07436000e+07, 2.33972480e+07,\n",
              "       9.57990200e+06, 1.30093120e+07, 3.18061110e+07, 1.01441290e+07,\n",
              "       1.12755070e+07, 7.16866470e+07, 1.69883340e+07, 2.85874960e+07,\n",
              "       8.41515000e+06, 1.12054470e+07, 3.23591060e+07, 1.92758650e+07,\n",
              "       1.18163470e+07, 1.48199150e+07, 3.81925770e+07, 2.15512530e+07,\n",
              "       2.49392620e+07, 1.97979880e+07, 9.41190200e+06, 2.21947640e+07,\n",
              "       7.99882400e+06, 1.16299500e+07, 1.38456120e+07, 1.95869300e+07,\n",
              "       2.60148800e+07, 5.47022900e+06, 2.04860470e+07, 2.23734930e+07,\n",
              "       9.88286400e+06, 9.11141600e+06, 1.12288790e+07, 2.07079560e+07,\n",
              "       1.71425080e+07, 1.57798600e+07, 9.03436100e+06, 1.47470110e+07,\n",
              "       6.07940250e+07, 4.45305460e+07, 1.58087350e+07, 2.28744000e+07,\n",
              "       1.34736600e+07, 1.46699130e+07, 2.24847990e+07, 1.37066450e+07,\n",
              "       1.34968100e+07, 1.90739020e+07, 1.93272570e+07, 1.69883340e+07,\n",
              "       8.86697900e+06, 9.99696500e+06, 1.04548520e+07, 1.45836190e+07,\n",
              "       1.07414600e+07, 8.41515000e+06, 1.63469270e+07, 1.99711330e+07,\n",
              "       3.48399980e+07, 8.24006800e+06, 1.07385080e+07, 1.37171200e+07,\n",
              "       1.22589620e+07, 1.42256190e+07, 3.40014880e+07, 2.34463310e+07,\n",
              "       1.30745290e+07, 1.24705200e+07, 1.18563540e+07, 2.44130600e+07,\n",
              "       7.58401300e+06, 1.50483290e+07, 8.30688700e+06, 1.25325250e+07,\n",
              "       1.21705980e+07, 4.05592610e+07, 1.02840010e+07, 2.51970140e+07,\n",
              "       1.41252930e+07, 1.76500830e+07, 1.76416700e+07, 8.64250610e+07,\n",
              "       1.46846350e+07, 1.12755070e+07, 3.26328020e+07, 2.60717050e+07,\n",
              "       1.65593360e+07, 1.73270360e+07, 5.27396200e+07, 1.24884700e+07,\n",
              "       2.58331990e+07, 1.51441500e+07, 1.87608410e+07, 1.66597760e+07,\n",
              "       1.65798730e+07, 1.52938140e+07, 1.48304800e+07, 1.48907050e+07,\n",
              "       7.91074000e+06, 1.55083150e+07, 1.69022300e+07, 8.28358900e+06,\n",
              "       1.34191170e+07, 8.30688700e+06, 7.79105700e+06, 1.73666140e+07,\n",
              "       1.21899020e+07, 1.09795760e+07, 1.42256190e+07, 1.11139050e+07,\n",
              "       2.58904920e+07, 1.01301950e+07, 9.56733900e+06, 1.95869300e+07,\n",
              "       1.15669700e+07, 2.39984870e+07, 1.68860480e+07, 6.64476700e+06,\n",
              "       6.30571700e+06, 1.32498210e+07, 1.61172520e+07, 3.01185560e+07,\n",
              "       1.34889180e+07, 2.95757420e+07, 1.23365650e+07, 1.28995290e+07,\n",
              "       1.26432130e+07, 1.59364240e+07, 2.16463970e+07, 1.77654850e+07,\n",
              "       1.18291920e+07, 1.54578900e+07, 3.01127910e+07, 1.53210990e+07,\n",
              "       1.46596650e+07, 7.74544800e+06, 3.05922980e+07, 1.58087350e+07,\n",
              "       1.81891090e+07, 2.60484580e+07, 3.12271550e+07, 3.09803090e+07,\n",
              "       7.91074000e+06, 1.94308820e+07, 1.10139130e+07, 1.03495180e+07,\n",
              "       1.94308820e+07, 2.27592470e+07, 2.85874960e+07, 3.51957630e+07,\n",
              "       6.85110780e+07, 1.08923350e+07, 1.72834320e+07, 3.47479560e+07,\n",
              "       2.02490390e+07, 1.35776670e+07, 1.17814009e+08, 5.35217080e+07,\n",
              "       1.04163300e+07, 1.15230550e+07, 1.35118890e+07, 8.63050500e+06,\n",
              "       1.00759080e+07, 2.18672910e+07, 9.99165200e+06, 1.95284990e+07,\n",
              "       1.45144580e+07, 1.71147760e+07, 1.67036380e+07, 6.69576700e+06,\n",
              "       2.33422420e+07, 2.49188910e+07, 1.03494060e+07, 1.70431610e+07,\n",
              "       1.31726140e+07, 1.03921080e+07, 1.37573670e+07, 1.13410530e+07,\n",
              "       1.53084660e+07, 2.28744000e+07, 1.95241060e+07, 5.78936300e+06,\n",
              "       1.48304800e+07, 1.04129310e+07, 9.02036000e+06, 6.05929700e+06,\n",
              "       1.05680570e+07, 8.31330910e+07, 1.60054160e+07, 1.19200930e+07,\n",
              "       1.04262474e+08])"
            ]
          },
          "metadata": {},
          "execution_count": 17
        }
      ]
    },
    {
      "cell_type": "markdown",
      "source": [
        "Predicción con valores medios"
      ],
      "metadata": {
        "id": "T0VNQvE5KImz"
      }
    },
    {
      "cell_type": "code",
      "source": [
        "print(classifier.predict([[45,45,45,45,45]]))"
      ],
      "metadata": {
        "colab": {
          "base_uri": "https://localhost:8080/"
        },
        "id": "QZ0QzVZcJnCs",
        "outputId": "0172cede-7483-49a6-e9c3-1877d3f3dadc"
      },
      "execution_count": 14,
      "outputs": [
        {
          "output_type": "stream",
          "name": "stdout",
          "text": [
            "[7924144.]\n"
          ]
        }
      ]
    }
  ]
}